{
 "cells": [
  {
   "cell_type": "markdown",
   "metadata": {},
   "source": [
    "#1367. Linked List in Binary Tree"
   ]
  },
  {
   "cell_type": "code",
   "execution_count": 3,
   "metadata": {},
   "outputs": [],
   "source": [
    "#Definition for singly-linked list.\n",
    "class ListNode:\n",
    "    def __init__(self, val=0, next=None):\n",
    "        self.val = val\n",
    "        self.next = next\n",
    "#Definition for a binary tree node.\n",
    "class TreeNode:\n",
    "    def __init__(self, val=0, left=None, right=None):\n",
    "        self.val = val\n",
    "        self.left = left\n",
    "        self.right = right"
   ]
  },
  {
   "cell_type": "code",
   "execution_count": 6,
   "metadata": {},
   "outputs": [],
   "source": [
    "class Solution:\n",
    "    def helper(self,head ,root):\n",
    "        if head is None:\n",
    "            return True\n",
    "        \n",
    "        leftCheck = False\n",
    "        if root.left and head.val == root.left.val:\n",
    "            leftCheck = self.helper(head.next,root.left)\n",
    "        \n",
    "        rightCheck = False\n",
    "        if root.right and head.val == root.right.val:\n",
    "            rightCheck = self.helper(head.next,root.right)\n",
    "        \n",
    "        return leftCheck or rightCheck\n",
    "        \n",
    "        \n",
    "            \n",
    "    def isSubPath(self, head, root) -> bool:\n",
    "        if root is None:\n",
    "            return False\n",
    "        \n",
    "        if root.val == head.val:\n",
    "            if self.helper(head.next,root):\n",
    "                return True\n",
    "        \n",
    "        leftCheck = self.isSubPath(head,root.left)\n",
    "        rightCheck = self.isSubPath(head,root.right)\n",
    "        \n",
    "        return leftCheck or rightCheck"
   ]
  },
  {
   "cell_type": "markdown",
   "metadata": {},
   "source": [
    "## mm\n"
   ]
  }
 ],
 "metadata": {
  "kernelspec": {
   "display_name": "Python 3.7.13 ('base')",
   "language": "python",
   "name": "python3"
  },
  "language_info": {
   "codemirror_mode": {
    "name": "ipython",
    "version": 3
   },
   "file_extension": ".py",
   "mimetype": "text/x-python",
   "name": "python",
   "nbconvert_exporter": "python",
   "pygments_lexer": "ipython3",
   "version": "3.7.13"
  },
  "orig_nbformat": 4,
  "vscode": {
   "interpreter": {
    "hash": "459390670e98fadbac5b0c242d6cfd749b8c2bd54ceed97af0f022a83761f58a"
   }
  }
 },
 "nbformat": 4,
 "nbformat_minor": 2
}
